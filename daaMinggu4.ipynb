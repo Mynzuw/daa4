{
 "cells": [
  {
   "cell_type": "code",
   "execution_count": 1,
   "id": "7ea1a2f6",
   "metadata": {},
   "outputs": [],
   "source": [
    "#swap function\n",
    "var1 = 1\n",
    "var2 = 2\n",
    "var1,var2 = var2,var1"
   ]
  },
  {
   "cell_type": "code",
   "execution_count": 2,
   "id": "0bfed908",
   "metadata": {},
   "outputs": [
    {
     "name": "stdout",
     "output_type": "stream",
     "text": [
      "2 1\n"
     ]
    }
   ],
   "source": [
    "print(var1,var2)"
   ]
  },
  {
   "cell_type": "code",
   "execution_count": 5,
   "id": "8cada0d5",
   "metadata": {},
   "outputs": [
    {
     "name": "stdout",
     "output_type": "stream",
     "text": [
      "8 12 4\n"
     ]
    }
   ],
   "source": [
    "#latihan\n",
    "var1 = 4\n",
    "var2 = 8\n",
    "var3 = 12\n",
    "var1,var2, var3 = var2, var3, var1\n",
    "print(var1,var2, var3)"
   ]
  },
  {
   "cell_type": "code",
   "execution_count": 7,
   "id": "e09abb39",
   "metadata": {},
   "outputs": [
    {
     "name": "stdout",
     "output_type": "stream",
     "text": [
      "0 [4, 7, 3, 6, 2, 5, 1]\n",
      "1 [4, 7, 3, 6, 2, 5, 1]\n",
      "2 [4, 3, 7, 6, 2, 5, 1]\n",
      "3 [4, 3, 6, 7, 2, 5, 1]\n",
      "4 [4, 3, 6, 2, 7, 5, 1]\n",
      "5 [4, 3, 6, 2, 5, 7, 1]\n",
      "6 [4, 3, 6, 2, 5, 1, 7]\n"
     ]
    }
   ],
   "source": [
    "#Bubble Sort\n",
    "list = [4,7,3,6,2,5,1]\n",
    "\n",
    "lastElementIndex = len(list)-1\n",
    "print(0,list)\n",
    "for idx in range(lastElementIndex):\n",
    "    if list[idx]>list[idx+1]:\n",
    "        list[idx],list[idx+1]=list[idx+1],list[idx]\n",
    "    print(idx+1,list)"
   ]
  },
  {
   "cell_type": "code",
   "execution_count": 11,
   "id": "f2cde49d",
   "metadata": {},
   "outputs": [
    {
     "data": {
      "text/plain": [
       "[4, 3, 6, 2, 5, 1, 7]"
      ]
     },
     "execution_count": 11,
     "metadata": {},
     "output_type": "execute_result"
    }
   ],
   "source": [
    "list"
   ]
  },
  {
   "cell_type": "code",
   "execution_count": 14,
   "id": "6b9ea401",
   "metadata": {},
   "outputs": [],
   "source": [
    "def BubbleSort(list):\n",
    "    lastElementIndex = len(list)-1\n",
    "    for passNo in range(lastElementIndex,0,-1):\n",
    "        for idx in range(passNo):\n",
    "            if list[idx]>list[idx+1]:\n",
    "                list[idx],list[idx+1]=list[idx+1],list[idx]\n",
    "    return list"
   ]
  },
  {
   "cell_type": "code",
   "execution_count": 15,
   "id": "6fe58309",
   "metadata": {},
   "outputs": [
    {
     "data": {
      "text/plain": [
       "[1, 2, 3, 4, 5, 6, 7]"
      ]
     },
     "execution_count": 15,
     "metadata": {},
     "output_type": "execute_result"
    }
   ],
   "source": [
    "BubbleSort(list)"
   ]
  },
  {
   "cell_type": "code",
   "execution_count": 16,
   "id": "ed06d995",
   "metadata": {},
   "outputs": [
    {
     "data": {
      "text/plain": [
       "[1, 2, 3, 4, 5, 6, 7]"
      ]
     },
     "execution_count": 16,
     "metadata": {},
     "output_type": "execute_result"
    }
   ],
   "source": [
    "list"
   ]
  },
  {
   "cell_type": "code",
   "execution_count": 17,
   "id": "9011ee8e",
   "metadata": {},
   "outputs": [
    {
     "data": {
      "text/plain": [
       "[10, 20, 30, 40, 60, 90, 100]"
      ]
     },
     "execution_count": 17,
     "metadata": {},
     "output_type": "execute_result"
    }
   ],
   "source": [
    "#Latihan\n",
    "myList = [100,20,60,90,40,30,10]\n",
    "\n",
    "BubbleSort(myList)"
   ]
  },
  {
   "cell_type": "code",
   "execution_count": 18,
   "id": "45c5cc3b",
   "metadata": {},
   "outputs": [],
   "source": [
    "#Insertion sort\n",
    "def InsertionSort(list):\n",
    "    for i in range(1, len(list)):\n",
    "        j =i-1\n",
    "        next = list[i]\n",
    "        \n",
    "        while (list[j] > next) and (j >= 0):\n",
    "            list[j+1] = list[j]\n",
    "            j=j-1\n",
    "        list[j+1] = next\n",
    "    return list"
   ]
  },
  {
   "cell_type": "code",
   "execution_count": 20,
   "id": "4a105d37",
   "metadata": {},
   "outputs": [
    {
     "data": {
      "text/plain": [
       "[50, 51, 52, 53, 54, 55, 56, 58, 59]"
      ]
     },
     "execution_count": 20,
     "metadata": {},
     "output_type": "execute_result"
    }
   ],
   "source": [
    "list = [53,55,51,54,50,56,59,58,52]\n",
    "InsertionSort(list)"
   ]
  },
  {
   "cell_type": "code",
   "execution_count": 21,
   "id": "68b4ddf1",
   "metadata": {},
   "outputs": [
    {
     "name": "stdout",
     "output_type": "stream",
     "text": [
      "[89, 12, 57, 16, 25, 11, 75]\n",
      "[11, 12, 16, 25, 57, 75, 89]\n"
     ]
    }
   ],
   "source": [
    "#latihan\n",
    "list = [89,12,57,16,25,11,75]\n",
    "print(list)\n",
    "InsertionSort(list)\n",
    "print(list)"
   ]
  },
  {
   "cell_type": "code",
   "execution_count": 23,
   "id": "ad5f5bf9",
   "metadata": {},
   "outputs": [],
   "source": [
    "#Selection Sort\n",
    "def SelectionSort(list):\n",
    "    for fill_slot in range(len(list)-1, 0, -1):\n",
    "        max_index = 0\n",
    "        for location in range(1, fill_slot + 1):\n",
    "            if list[location] > list[max_index]:\n",
    "                max_index = location\n",
    "        list[fill_slot],list[max_index] = list[max_index],list[fill_slot]\n",
    "    return list"
   ]
  },
  {
   "cell_type": "code",
   "execution_count": 27,
   "id": "390d7d34",
   "metadata": {},
   "outputs": [
    {
     "data": {
      "text/plain": [
       "[15, 19, 25, 34, 44, 70]"
      ]
     },
     "execution_count": 27,
     "metadata": {},
     "output_type": "execute_result"
    }
   ],
   "source": [
    "list = [70,15,25,19,34,44]\n",
    "SelectionSort(list)"
   ]
  },
  {
   "cell_type": "code",
   "execution_count": 28,
   "id": "c2e36ab0",
   "metadata": {},
   "outputs": [
    {
     "data": {
      "text/plain": [
       "[15, 19, 25, 34, 44, 70]"
      ]
     },
     "execution_count": 28,
     "metadata": {},
     "output_type": "execute_result"
    }
   ],
   "source": [
    "list"
   ]
  },
  {
   "cell_type": "code",
   "execution_count": 29,
   "id": "8959dcc2",
   "metadata": {},
   "outputs": [
    {
     "name": "stdout",
     "output_type": "stream",
     "text": [
      "[15, 19, 25, 34, 44, 70]\n"
     ]
    }
   ],
   "source": [
    "list = [70,15,25,19,34,44]\n",
    "SelectionSort(list)\n",
    "print(list)"
   ]
  },
  {
   "cell_type": "code",
   "execution_count": 30,
   "id": "908b5827",
   "metadata": {},
   "outputs": [
    {
     "name": "stdout",
     "output_type": "stream",
     "text": [
      "[12, 16, 25, 57, 89]\n"
     ]
    }
   ],
   "source": [
    "#Latihan\n",
    "list = [89,12,57,16,25]\n",
    "SelectionSort(list)\n",
    "print(list)"
   ]
  },
  {
   "cell_type": "code",
   "execution_count": 31,
   "id": "bed8e2ca",
   "metadata": {},
   "outputs": [],
   "source": [
    "#Searching\n",
    "def LinearSearch(list, item):\n",
    "    index = 0\n",
    "    found = False\n",
    "\n",
    "    while index < len(list) and found is False:\n",
    "        if list[index]  == item:\n",
    "            found = True\n",
    "        else:\n",
    "            index = index + 1\n",
    "    return found"
   ]
  },
  {
   "cell_type": "code",
   "execution_count": 32,
   "id": "49cf0e49",
   "metadata": {},
   "outputs": [
    {
     "name": "stdout",
     "output_type": "stream",
     "text": [
      "True\n",
      "False\n"
     ]
    }
   ],
   "source": [
    "list = [12,33,11,99,22,55,99]\n",
    "print(LinearSearch(list,12))\n",
    "print(LinearSearch(list,91))"
   ]
  },
  {
   "cell_type": "code",
   "execution_count": 37,
   "id": "93c00faa",
   "metadata": {},
   "outputs": [
    {
     "name": "stdout",
     "output_type": "stream",
     "text": [
      "True\n"
     ]
    }
   ],
   "source": [
    "#Latihan\n",
    "list = [\"y\",\"u\",\"i\",\"w\",\"o\",\"a\",\"q\",\"u\",\"j\",\"p\"]\n",
    "print(LinearSearch(list,\"a\"))"
   ]
  },
  {
   "cell_type": "code",
   "execution_count": 38,
   "id": "49610036",
   "metadata": {},
   "outputs": [],
   "source": [
    "#Binary Search\n",
    "def BinarySearch(list, item):\n",
    "    first = 0\n",
    "    last = len(list)-1\n",
    "    found = False\n",
    "    while first <= last and not found:\n",
    "        midpoint = (first + last)//2\n",
    "        if list[midpoint] == item:\n",
    "            found = True\n",
    "        else:\n",
    "            if item < list[midpoint]:\n",
    "                last = midpoint-1\n",
    "            else:\n",
    "                first = midpoint+1\n",
    "    return found"
   ]
  },
  {
   "cell_type": "code",
   "execution_count": 39,
   "id": "c04dcbc4",
   "metadata": {},
   "outputs": [
    {
     "name": "stdout",
     "output_type": "stream",
     "text": [
      "True\n",
      "False\n"
     ]
    }
   ],
   "source": [
    "list = [12,33,11,99,22,55,90]\n",
    "sorted_list = BubbleSort(list)\n",
    "print(BinarySearch(list,12))\n",
    "print(BinarySearch(list,91))"
   ]
  },
  {
   "cell_type": "code",
   "execution_count": 40,
   "id": "f07120db",
   "metadata": {},
   "outputs": [
    {
     "name": "stdout",
     "output_type": "stream",
     "text": [
      "True\n"
     ]
    }
   ],
   "source": [
    "#Latihan\n",
    "list = [\"y\",\"u\",\"i\",\"w\",\"o\",\"a\",\"q\",\"u\",\"j\",\"p\"]\n",
    "sorted_list = BubbleSort(list)\n",
    "print(BinarySearch(list,\"a\"))"
   ]
  },
  {
   "cell_type": "code",
   "execution_count": 50,
   "id": "42c0d358",
   "metadata": {},
   "outputs": [],
   "source": [
    "#Interpolation Search\n",
    "def IntPolsearch(list,x):\n",
    "    idx0 = 0\n",
    "    idxn = (len(list)-1)\n",
    "    found = False\n",
    "    while idx0 <= idxn and x >= list[idx0] and x <= list[idxn]:\n",
    "        mid = idx0 + int(((float(idxn - idx0)/(list[idxn] - list[idx0])) * (x - list[idx0])))\n",
    "        if list[mid] == x:\n",
    "            found = True\n",
    "            return found\n",
    "        if list[mid] < x:\n",
    "            idx0 = mid + 1\n",
    "    return found"
   ]
  },
  {
   "cell_type": "code",
   "execution_count": 55,
   "id": "fed4d9d6",
   "metadata": {},
   "outputs": [
    {
     "name": "stdout",
     "output_type": "stream",
     "text": [
      "True\n",
      "False\n"
     ]
    }
   ],
   "source": [
    "list = [12,33,11,99,22,55,90]\n",
    "sorted_list = BubbleSort(list)\n",
    "print(IntPolsearch(list,12))\n",
    "print(IntPolsearch(list,91))"
   ]
  },
  {
   "cell_type": "code",
   "execution_count": 63,
   "id": "89f85f49",
   "metadata": {},
   "outputs": [],
   "source": [
    "#Latihan\n",
    "list = [\"y\",\"u\",\"i\",\"w\",\"o\",\"a\",\"q\",\"u\",\"j\",\"p\"]\n",
    "sorted_list = BubbleSort(list)"
   ]
  },
  {
   "cell_type": "code",
   "execution_count": null,
   "id": "03bc7a80",
   "metadata": {},
   "outputs": [],
   "source": []
  }
 ],
 "metadata": {
  "kernelspec": {
   "display_name": "Python 3 (ipykernel)",
   "language": "python",
   "name": "python3"
  },
  "language_info": {
   "codemirror_mode": {
    "name": "ipython",
    "version": 3
   },
   "file_extension": ".py",
   "mimetype": "text/x-python",
   "name": "python",
   "nbconvert_exporter": "python",
   "pygments_lexer": "ipython3",
   "version": "3.9.12"
  }
 },
 "nbformat": 4,
 "nbformat_minor": 5
}
